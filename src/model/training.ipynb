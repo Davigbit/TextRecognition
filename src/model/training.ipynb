{
  "cells": [
    {
      "cell_type": "code",
      "execution_count": 1,
      "metadata": {
        "id": "IZSlWksssvfm"
      },
      "outputs": [],
      "source": [
        "import torch\n",
        "import torch.nn as nn\n",
        "import torch.nn.functional as F\n",
        "import torch.optim as optim\n",
        "import torchvision\n",
        "import torchvision.transforms as transforms\n",
        "from tqdm import tqdm\n",
        "import matplotlib.pyplot as plt\n",
        "from google.colab import drive\n",
        "import string\n",
        "import os\n",
        "from PIL import Image\n",
        "import random\n",
        "from torch.utils.data import Dataset\n"
      ]
    },
    {
      "cell_type": "markdown",
      "metadata": {
        "id": "XuHhgXM_svfo"
      },
      "source": [
        "**Getting the DataSet**"
      ]
    },
    {
      "cell_type": "code",
      "execution_count": 2,
      "metadata": {
        "id": "KKbgIP71YQ8m"
      },
      "outputs": [],
      "source": [
        "%%capture\n",
        "drive.mount('/content/drive')\n",
        "!unzip \"/content/drive/MyDrive/Mais code/by_class.zip\" -d \"/content/drive/MyDrive/Mais code/\""
      ]
    },
    {
      "cell_type": "code",
      "execution_count": 3,
      "metadata": {
        "id": "aOzphhIecg7e"
      },
      "outputs": [],
      "source": [
        "string_list = list(string.digits + string.ascii_uppercase)\n",
        "\n",
        "data_map = {}\n",
        "\n",
        "for char in string_list:\n",
        "  # The files are named according to hexadecimal\n",
        "  data_map[char] = os.listdir(f\"/content/drive/MyDrive/Mais code/by_class/{format(ord(char), 'x')}\")\n",
        "\n"
      ]
    },
    {
      "cell_type": "code",
      "execution_count": 4,
      "metadata": {
        "id": "4XvfMJMJn4jZ"
      },
      "outputs": [],
      "source": [
        "all_samples = []\n",
        "\n",
        "for char, file_list in data_map.items():\n",
        "    for filename in file_list:\n",
        "        img_path = f\"/content/drive/MyDrive/Mais code/by_class/{format(ord(char), 'x')}/{filename}\"\n",
        "        if os.path.exists(img_path):\n",
        "                all_samples.append((char, img_path))\n",
        "\n",
        "random.shuffle(all_samples)"
      ]
    },
    {
      "cell_type": "code",
      "execution_count": 5,
      "metadata": {
        "colab": {
          "base_uri": "https://localhost:8080/"
        },
        "id": "Gu3FaaEhoOYg",
        "outputId": "adba0a5d-1c74-4c1d-fb79-50d61c0591ea"
      },
      "outputs": [
        {
          "data": {
            "text/plain": [
              "(37123, 0, 9281)"
            ]
          },
          "execution_count": 5,
          "metadata": {},
          "output_type": "execute_result"
        }
      ],
      "source": [
        "total = len(all_samples)\n",
        "train_end = int(0.8 * total)\n",
        "val_end = int(0.8 * total)\n",
        "\n",
        "#Making our splits\n",
        "train_data = all_samples[:train_end]\n",
        "val_data = all_samples[train_end:val_end]\n",
        "test_data = all_samples[val_end:]\n",
        "\n",
        "len(train_data), len(val_data), len(test_data)\n"
      ]
    },
    {
      "cell_type": "code",
      "execution_count": 6,
      "metadata": {
        "id": "wd3nC5sIpifg"
      },
      "outputs": [],
      "source": [
        "class NISTDataset(Dataset):\n",
        "    def __init__(self, data, transform=None, label_map=None):\n",
        "        self.data = data\n",
        "        self.transform = transform\n",
        "\n",
        "        all_chars = list(string.digits + string.ascii_uppercase)\n",
        "        self.label_map = {char: idx for idx, char in enumerate(all_chars)}\n",
        "\n",
        "    def __len__(self):\n",
        "        return len(self.data)\n",
        "\n",
        "    def __getitem__(self, idx):\n",
        "        label_char, img_path = self.data[idx]\n",
        "        image = Image.open(img_path).convert(\"L\")\n",
        "\n",
        "        if self.transform:\n",
        "            image = self.transform(image)\n",
        "\n",
        "        label = self.label_map[label_char]\n",
        "        return image, label"
      ]
    },
    {
      "cell_type": "code",
      "execution_count": 7,
      "metadata": {
        "id": "uVzULksTsvfp"
      },
      "outputs": [],
      "source": [
        "transform = transforms.Compose([\n",
        "    transforms.Grayscale(num_output_channels=1),\n",
        "    transforms.Resize((128,128)),\n",
        "    transforms.ToTensor(),\n",
        "    transforms.Normalize((0.5,), (0.5,))\n",
        "])\n",
        "\n",
        "\n",
        "train_dataset = NISTDataset(train_data, transform=transform)\n",
        "test_dataset = NISTDataset(test_data, transform=transform)\n",
        "val_dataset = NISTDataset(val_data, transform=transform)\n",
        "\n",
        "\n",
        "train_loader = torch.utils.data.DataLoader(dataset=train_dataset, batch_size=256, shuffle=True)\n",
        "test_loader = torch.utils.data.DataLoader(dataset=test_dataset, batch_size=256, shuffle=False)\n",
        "val_loader = torch.utils.data.DataLoader(dataset=val_dataset, batch_size=256, shuffle=False)"
      ]
    },
    {
      "cell_type": "markdown",
      "metadata": {
        "id": "A2_zZpkLhbb4"
      },
      "source": [
        "**Defining the Convolutional Neural Network**"
      ]
    },
    {
      "cell_type": "code",
      "execution_count": 8,
      "metadata": {
        "id": "mNJxUyhRsvfp"
      },
      "outputs": [],
      "source": [
        "class CNN(nn.Module):\n",
        "    def __init__(self):\n",
        "        super(CNN, self).__init__()\n",
        "        self.conv1 = nn.Conv2d(1, 64, kernel_size=3, stride=1, padding=1)\n",
        "        self.conv2 = nn.Conv2d(64, 64, kernel_size=3, stride=1, padding=1)\n",
        "        self.pool = nn.MaxPool2d(kernel_size=2, stride=2)\n",
        "        self.fc1 = nn.Linear(64 * 32 * 32, 256)\n",
        "        self.fc2 = nn.Linear(256, 256)\n",
        "        self.fc3 = nn.Linear(256, 128)\n",
        "        self.fc4 = nn.Linear(128, 36)\n",
        "        self.relu = nn.ReLU()\n",
        "\n",
        "    def forward(self, x, drop_prob=0.3):\n",
        "        x = self.pool(F.relu(self.conv1(x)))\n",
        "        x = self.pool(F.relu(self.conv2(x)))\n",
        "        x = torch.flatten(x, 1)\n",
        "        x = F.relu(self.fc1(x))\n",
        "        x = F.dropout(x, p=drop_prob, training=self.training)\n",
        "        x = F.relu(self.fc2(x))\n",
        "        x = F.dropout(x, p=drop_prob, training=self.training)\n",
        "        x = F.relu(self.fc3(x))\n",
        "        x = F.dropout(x, p=drop_prob, training=self.training)\n",
        "        x = self.fc4(x)\n",
        "        return x\n",
        "\n",
        "model = CNN()\n",
        "criterion = nn.CrossEntropyLoss()"
      ]
    },
    {
      "cell_type": "code",
      "execution_count": 9,
      "metadata": {
        "colab": {
          "base_uri": "https://localhost:8080/"
        },
        "id": "30ON5Q2ovJM1",
        "outputId": "8785a36b-3223-4356-f994-0f1a99ee3f16"
      },
      "outputs": [
        {
          "name": "stdout",
          "output_type": "stream",
          "text": [
            "Using device: cuda\n"
          ]
        }
      ],
      "source": [
        "device = torch.device(\"cuda\" if torch.cuda.is_available() else \"cpu\")\n",
        "print(f\"Using device: {device}\")"
      ]
    },
    {
      "cell_type": "markdown",
      "metadata": {
        "id": "cvXj_2yBsvfq"
      },
      "source": [
        "*Hyperparameter tuning - Trained on validation set using grid search*"
      ]
    },
    {
      "cell_type": "code",
      "execution_count": null,
      "metadata": {
        "colab": {
          "base_uri": "https://localhost:8080/",
          "height": 105
        },
        "collapsed": true,
        "id": "VSYh6VKMtRTc",
        "outputId": "8d27b961-509b-45ef-9476-0e00cc949cfc"
      },
      "outputs": [],
      "source": [
        "best_lr = 5e-4\n",
        "best_weight_decay = 5e-4"
      ]
    },
    {
      "cell_type": "markdown",
      "metadata": {
        "id": "ZmvIt4Gtsvfq"
      },
      "source": [
        "**Training the model**"
      ]
    },
    {
      "cell_type": "code",
      "execution_count": 11,
      "metadata": {
        "colab": {
          "base_uri": "https://localhost:8080/"
        },
        "id": "1hgkpxQmsvfq",
        "outputId": "6751ab78-37e6-4fa7-f3ec-228f0000c705"
      },
      "outputs": [
        {
          "name": "stderr",
          "output_type": "stream",
          "text": [
            "Epoch 1/20: 100%|██████████| 146/146 [02:17<00:00,  1.06it/s, loss=1.55]\n",
            "Epoch 2/20: 100%|██████████| 146/146 [02:14<00:00,  1.08it/s, loss=0.718]\n",
            "Epoch 3/20: 100%|██████████| 146/146 [02:18<00:00,  1.06it/s, loss=1.41]\n",
            "Epoch 4/20: 100%|██████████| 146/146 [02:19<00:00,  1.05it/s, loss=0.0658]\n",
            "Epoch 5/20: 100%|██████████| 146/146 [02:16<00:00,  1.07it/s, loss=0.000477]\n",
            "Epoch 6/20: 100%|██████████| 146/146 [02:18<00:00,  1.06it/s, loss=0.811]\n",
            "Epoch 7/20: 100%|██████████| 146/146 [02:20<00:00,  1.04it/s, loss=0.0189]\n",
            "Epoch 8/20: 100%|██████████| 146/146 [02:15<00:00,  1.08it/s, loss=0.0613]\n",
            "Epoch 9/20: 100%|██████████| 146/146 [02:12<00:00,  1.11it/s, loss=0.315]\n",
            "Epoch 10/20: 100%|██████████| 146/146 [02:14<00:00,  1.08it/s, loss=0.9]\n",
            "Epoch 11/20: 100%|██████████| 146/146 [02:19<00:00,  1.05it/s, loss=0.00787]\n",
            "Epoch 12/20: 100%|██████████| 146/146 [02:16<00:00,  1.07it/s, loss=0.156]\n",
            "Epoch 13/20: 100%|██████████| 146/146 [02:15<00:00,  1.08it/s, loss=0.00264]\n",
            "Epoch 14/20: 100%|██████████| 146/146 [02:17<00:00,  1.06it/s, loss=0.0704]\n",
            "Epoch 15/20: 100%|██████████| 146/146 [02:15<00:00,  1.08it/s, loss=0.00488]\n",
            "Epoch 16/20: 100%|██████████| 146/146 [02:14<00:00,  1.08it/s, loss=0.0236]\n",
            "Epoch 17/20: 100%|██████████| 146/146 [02:14<00:00,  1.09it/s, loss=0.00312]\n",
            "Epoch 18/20: 100%|██████████| 146/146 [02:17<00:00,  1.06it/s, loss=0.317]\n",
            "Epoch 19/20: 100%|██████████| 146/146 [02:17<00:00,  1.06it/s, loss=0.00937]\n",
            "Epoch 20/20: 100%|██████████| 146/146 [02:17<00:00,  1.06it/s, loss=0.00227]\n"
          ]
        }
      ],
      "source": [
        "num_epochs = 20\n",
        "loss_hist = []\n",
        "test_loss = []\n",
        "\n",
        "model = CNN().to(device)\n",
        "\n",
        "optimizer = optim.Adam(model.parameters(), lr=best_lr, weight_decay=best_weight_decay)\n",
        "\n",
        "for epoch in range(num_epochs):\n",
        "  model.train()\n",
        "  with tqdm(enumerate(train_loader), total=len(train_loader), desc=f\"Epoch {epoch+1}/{num_epochs}\") as pbar:\n",
        "\n",
        "      for batch_idx, (images, labels) in pbar:\n",
        "          optimizer.zero_grad()\n",
        "\n",
        "          images, labels = images.to(device), labels.to(device)\n",
        "\n",
        "          outputs = model(images)\n",
        "          loss = criterion(outputs, labels)\n",
        "          loss.backward()\n",
        "          optimizer.step()\n",
        "\n",
        "          pbar.set_postfix(loss=loss.item())\n",
        "\n",
        "          loss_hist.append(loss.item())\n",
        "\n",
        "  model.eval()\n",
        "  with torch.no_grad():\n",
        "      for images, labels in test_loader:\n",
        "          images, labels = images.to(device), labels.to(device)\n",
        "\n",
        "          outputs = model(images)\n",
        "          loss = criterion(outputs, labels)\n",
        "          test_loss.append(loss.item())\n",
        "          pbar.set_postfix(test_loss=loss.item())\n",
        "\n"
      ]
    },
    {
      "cell_type": "code",
      "execution_count": 12,
      "metadata": {
        "colab": {
          "base_uri": "https://localhost:8080/",
          "height": 307
        },
        "id": "Q-0t5Le7Z2cC",
        "outputId": "b8da89ad-0de9-4ea5-f034-c4fa822273f7"
      },
      "outputs": [
        {
          "data": {
            "image/png": "[encoded data removed]",
            "text/plain": [
              "<Figure size 900x300 with 1 Axes>"
            ]
          },
          "metadata": {},
          "output_type": "display_data"
        }
      ],
      "source": [
        "def moving_average(x, window_size=50):\n",
        "    return [sum(x[i:i+window_size])/window_size for i in range(len(x)-window_size)]\n",
        "\n",
        "smoothed_loss = moving_average(loss_hist)\n",
        "\n",
        "plt.figure(figsize=(9, 3))\n",
        "plt.plot(smoothed_loss)\n",
        "plt.xlabel(\"Iterations\")\n",
        "plt.ylabel(\"Loss\")\n",
        "plt.title(\"Smoothed Training Loss\")\n",
        "plt.tight_layout()\n",
        "plt.show()"
      ]
    },
    {
      "cell_type": "code",
      "execution_count": 13,
      "metadata": {
        "colab": {
          "base_uri": "https://localhost:8080/",
          "height": 307
        },
        "id": "IBmlCtvVZ0J6",
        "outputId": "4aebac56-3ffb-4c94-b4df-dd09d8852344"
      },
      "outputs": [
        {
          "data": {
            "image/png": "[encoded data removed]",
            "text/plain": [
              "<Figure size 900x300 with 1 Axes>"
            ]
          },
          "metadata": {},
          "output_type": "display_data"
        }
      ],
      "source": [
        "smoothed_loss = moving_average(test_loss)\n",
        "\n",
        "plt.figure(figsize=(9, 3))\n",
        "plt.plot(smoothed_loss)\n",
        "plt.xlabel(\"Iterations\")\n",
        "plt.ylabel(\"Loss\")\n",
        "plt.title(\"Smoothed Test Loss\")\n",
        "plt.tight_layout()\n",
        "plt.show()"
      ]
    },
    {
      "cell_type": "markdown",
      "metadata": {
        "id": "l9AIPHlSiSHz"
      },
      "source": [
        "**Testing the model**"
      ]
    },
    {
      "cell_type": "code",
      "execution_count": 14,
      "metadata": {
        "colab": {
          "base_uri": "https://localhost:8080/"
        },
        "id": "neD2UpfMsvfs",
        "outputId": "821883f2-d9c8-4e16-914f-5f646d17e87e"
      },
      "outputs": [
        {
          "name": "stdout",
          "output_type": "stream",
          "text": [
            "Test Accuracy: 94.33%\n"
          ]
        }
      ],
      "source": [
        "correct = 0\n",
        "total = 0\n",
        "\n",
        "with torch.no_grad():\n",
        "    for images, labels in test_loader:\n",
        "        images, labels = images.to(device), labels.to(device)\n",
        "        outputs = model(images)\n",
        "        _, predicted = torch.max(outputs, 1)\n",
        "        total += labels.size(0)\n",
        "        correct += (predicted == labels).sum().item()\n",
        "\n",
        "print(f\"Test Accuracy: {100 * correct / total:.2f}%\")"
      ]
    },
    {
      "cell_type": "markdown",
      "metadata": {
        "id": "QbNCFBudfCPS"
      },
      "source": [
        "**Saving the weights**"
      ]
    },
    {
      "cell_type": "code",
      "execution_count": 15,
      "metadata": {
        "id": "kAcLansffB46"
      },
      "outputs": [],
      "source": [
        "torch.save(model.state_dict(), '/content/drive/MyDrive/Mais code/model_weights.pth')"
      ]
    }
  ],
  "metadata": {
    "accelerator": "GPU",
    "colab": {
      "gpuType": "T4",
      "provenance": []
    },
    "kernelspec": {
      "display_name": "Python 3",
      "name": "python3"
    },
    "language_info": {
      "codemirror_mode": {
        "name": "ipython",
        "version": 3
      },
      "file_extension": ".py",
      "mimetype": "text/x-python",
      "name": "python",
      "nbconvert_exporter": "python",
      "pygments_lexer": "ipython3",
      "version": "3.12.4"
    }
  },
  "nbformat": 4,
  "nbformat_minor": 0
}
