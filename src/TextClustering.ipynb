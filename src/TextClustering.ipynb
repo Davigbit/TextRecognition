{
 "cells": [
  {
   "cell_type": "code",
   "execution_count": null,
   "metadata": {},
   "outputs": [],
   "source": [
    "import cv2\n",
    "import numpy as np\n",
    "import os\n",
    "\n",
    "image_path = \"image.png\"\n",
    "image = cv2.imread(image_path)\n",
    "if (image is None):\n",
    "    raise FileNotFoundError(f\"The file \\\"{image_path}\\\" does not exist\")\n",
    "\n",
    "# Convert to grayscale\n",
    "gray = cv2.cvtColor(image, cv2.COLOR_BGR2GRAY)\n",
    "\n",
    "# Apply thresholding to create a binary image\n",
    "_, binary = cv2.threshold(gray, 150, 255, cv2.THRESH_BINARY_INV)\n",
    "\n",
    "# Find contours\n",
    "contours, _ = cv2.findContours(binary, cv2.RETR_EXTERNAL, cv2.CHAIN_APPROX_SIMPLE)\n",
    "\n",
    "# Sort contours from left to right\n",
    "contours = sorted(contours, key=lambda ctr: cv2.boundingRect(ctr)[0])\n",
    "\n",
    "# Create output directory\n",
    "output_dir = \"../test/letters_output\"\n",
    "os.makedirs(output_dir, exist_ok=True)\n",
    "\n",
    "# Loop through contours and extract letters\n",
    "for i, contour in enumerate(contours):\n",
    "    x, y, w, h = cv2.boundingRect(contour)\n",
    "    \n",
    "    # Ignore small contours (filtering noise)\n",
    "    if w > 5 and h > 10:\n",
    "        letter = image[y:y+h, x:x+w]\n",
    "        \n",
    "        # Save each letter as a separate image\n",
    "        letter_filename = os.path.join(output_dir, f\"letter_{i}.png\")\n",
    "        cv2.imwrite(letter_filename, letter)\n",
    "\n",
    "        # Optional: Draw rectangle around detected letters for visualization\n",
    "        cv2.rectangle(image, (x, y), (x + w, y + h), (0, 255, 0), 2)\n"
   ]
  }
 ],
 "metadata": {
  "language_info": {
   "name": "python"
  }
 },
 "nbformat": 4,
 "nbformat_minor": 2
}
