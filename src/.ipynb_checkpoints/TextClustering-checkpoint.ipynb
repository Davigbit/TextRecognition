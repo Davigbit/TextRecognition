{
 "cells": [
  {
   "cell_type": "markdown",
   "metadata": {},
   "source": [
    "# Create Images"
   ]
  },
  {
   "cell_type": "code",
   "execution_count": 1,
   "metadata": {},
   "outputs": [],
   "source": [
    "import cv2\n",
    "import os\n",
    "\n",
    "image_path = \"../test/image.png\"\n",
    "image = cv2.imread(image_path)\n",
    "if (image is None):\n",
    "    raise FileNotFoundError(f\"The file \\\"{image_path}\\\" does not exist\")\n",
    "\n",
    "# Convert to grayscale\n",
    "gray = cv2.cvtColor(image, cv2.COLOR_BGR2GRAY)\n",
    "\n",
    "# Apply thresholding to create a binary image\n",
    "_, binary = cv2.threshold(gray, 150, 255, cv2.THRESH_BINARY_INV)\n",
    "\n",
    "# Find contours\n",
    "contours, _ = cv2.findContours(binary, cv2.RETR_EXTERNAL, cv2.CHAIN_APPROX_SIMPLE)\n",
    "\n",
    "# Sort contours from left to right\n",
    "contours = sorted(contours, key=lambda ctr: cv2.boundingRect(ctr)[0])\n",
    "\n",
    "# Create output directory\n",
    "output_dir = \"../test/letters_output\"\n",
    "os.makedirs(output_dir, exist_ok=True)\n",
    "\n",
    "# Make a copy of the image for visualization (so we don’t modify the original)\n",
    "visualization_image = image.copy()\n",
    "\n",
    "# Process each detected letter\n",
    "for i, contour in enumerate(contours):\n",
    "    x, y, w, h = cv2.boundingRect(contour)\n",
    "\n",
    "    # Ignore small contours (filtering noise)\n",
    "    if w > 5 and h > 10:\n",
    "        # Calculate padding (10% of width and height)\n",
    "        pad_w = int(w * 0.1)\n",
    "        pad_h = int(h * 0.1)\n",
    "\n",
    "        # Define new bounding box with padding\n",
    "        x1, y1 = max(0, x - pad_w), max(0, y - pad_h)\n",
    "        x2, y2 = min(image.shape[1], x + w + pad_w), min(image.shape[0], y + h + pad_h)\n",
    "\n",
    "        # Extract letter with padding (from original image, without green rectangles)\n",
    "        letter = image[y1:y2, x1:x2]\n",
    "\n",
    "        # Resize to 128x128\n",
    "        resized_letter = cv2.resize(letter, (128, 128), interpolation=cv2.INTER_AREA)\n",
    "\n",
    "        # Save resized letter\n",
    "        output_path = os.path.join(output_dir, f\"letter_{i}.png\")\n",
    "        cv2.imwrite(output_path, resized_letter)\n",
    "\n",
    "        # Draw rectangle only on the visualization image (not on saved letters)\n",
    "        cv2.rectangle(visualization_image, (x1, y1), (x2, y2), (0, 255, 0), 2)\n"
   ]
  },
  {
   "cell_type": "markdown",
   "metadata": {},
   "source": [
    "# Delete Images"
   ]
  },
  {
   "cell_type": "code",
   "execution_count": 2,
   "metadata": {},
   "outputs": [],
   "source": [
    "from pathlib import Path\n",
    "\n",
    "def clean_dir(path):\n",
    "    directory = Path(path)\n",
    "    for item in directory.iterdir():\n",
    "        if item.is_dir():\n",
    "            clean_dir(item)\n",
    "        else:\n",
    "            item.unlink()\n",
    "\n",
    "clean_dir(\"../test/letters_output\")"
   ]
  },
  {
   "cell_type": "code",
   "execution_count": null,
   "metadata": {},
   "outputs": [],
   "source": []
  }
 ],
 "metadata": {
  "kernelspec": {
   "display_name": "Python 3 (ipykernel)",
   "language": "python",
   "name": "python3"
  },
  "language_info": {
   "codemirror_mode": {
    "name": "ipython",
    "version": 3
   },
   "file_extension": ".py",
   "mimetype": "text/x-python",
   "name": "python",
   "nbconvert_exporter": "python",
   "pygments_lexer": "ipython3",
   "version": "3.12.3"
  }
 },
 "nbformat": 4,
 "nbformat_minor": 4
}
