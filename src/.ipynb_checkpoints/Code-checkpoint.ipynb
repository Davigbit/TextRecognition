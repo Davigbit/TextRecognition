{
 "cells": [
  {
   "cell_type": "code",
   "execution_count": 1,
   "metadata": {},
   "outputs": [],
   "source": [
    "import torch\n",
    "import torch.nn as nn\n",
    "import torch.nn.functional as F\n",
    "import torch.optim as optim\n",
    "import torchvision\n",
    "import torchvision.transforms as transforms\n",
    "from tqdm import tqdm\n",
    "import matplotlib.pyplot as plt\n"
   ]
  },
  {
   "cell_type": "markdown",
   "metadata": {},
   "source": [
    "1. Getting the DataSet (MNIST for now only to test implementation)"
   ]
  },
  {
   "cell_type": "code",
   "execution_count": 2,
   "metadata": {},
   "outputs": [
    {
     "name": "stderr",
     "output_type": "stream",
     "text": [
      "100%|████████████████████████████████████████████████████████████████████████████████████████████| 9.91M/9.91M [00:00<00:00, 13.9MB/s]\n",
      "100%|█████████████████████████████████████████████████████████████████████████████████████████████| 28.9k/28.9k [00:00<00:00, 689kB/s]\n",
      "100%|████████████████████████████████████████████████████████████████████████████████████████████| 1.65M/1.65M [00:00<00:00, 7.91MB/s]\n",
      "100%|████████████████████████████████████████████████████████████████████████████████████████████| 4.54k/4.54k [00:00<00:00, 5.60MB/s]\n"
     ]
    }
   ],
   "source": [
    "transform = transforms.Compose([\n",
    "    transforms.ToTensor(), # Convert images to PyTorch tensors\n",
    "    transforms.Normalize((0.5,), (0.5,)) # Normalize pixel values to range [-1, 1]\n",
    "])\n",
    "\n",
    "# I don't know what these do, just copied from documentation...\n",
    "train_dataset = torchvision.datasets.MNIST(root=\"./data\", train=True, transform=transform, download=True)\n",
    "test_dataset = torchvision.datasets.MNIST(root=\"./data\", train=False, transform=transform, download=True)\n",
    "train_loader = torch.utils.data.DataLoader(dataset=train_dataset, batch_size=256, shuffle=True)\n",
    "test_loader = torch.utils.data.DataLoader(dataset=test_dataset, batch_size=256, shuffle=False)"
   ]
  },
  {
   "cell_type": "code",
   "execution_count": 3,
   "metadata": {},
   "outputs": [],
   "source": [
    "class CNN(nn.Module):\n",
    "    # Building the CNN, this is very easy even if it seems complex. You just say the intial size and the desired output size.\n",
    "    # For CNNs, the size is kind of the amount of \"stacked images\" that the layer has (I do not fully understand it)\n",
    "    def __init__(self):\n",
    "        super(CNN, self).__init__()\n",
    "        self.conv1 = nn.Conv2d(1, 64, kernel_size=3, stride=1, padding=1)\n",
    "        self.conv2 = nn.Conv2d(64, 64, kernel_size=3, stride=1, padding=1)\n",
    "        self.pool = nn.MaxPool2d(kernel_size=2, stride=2)\n",
    "        self.fc1 = nn.Linear(64 * 7 * 7, 128)\n",
    "        self.fc2 = nn.Linear(128, 128)\n",
    "        self.fc3 = nn.Linear(128, 10)\n",
    "        self.relu = nn.ReLU()\n",
    "\n",
    "    def forward(self, x):\n",
    "        x = self.pool(F.relu(self.conv1(x)))\n",
    "        x = self.pool(F.relu(self.conv2(x)))\n",
    "        x = torch.flatten(x, 1) # Make the image a vector so it can be fed to a normal NN\n",
    "        x = F.relu(self.fc1(x))\n",
    "        x = F.relu(self.fc2(x))\n",
    "        x = self.fc3(x)\n",
    "        return x\n",
    "\n",
    "model = CNN()\n",
    "criterion = nn.CrossEntropyLoss()\n",
    "optimizer = optim.Adam(model.parameters(), lr=5e-4, weight_decay=5e-4) # I used L2 regularization for this"
   ]
  },
  {
   "cell_type": "markdown",
   "metadata": {},
   "source": [
    "2. Define a Convolutional Neural Network\n",
    "\n",
    "My idea for the moment:\n",
    "- First convolutional layer with 64 filters of 3x3 kernels. (ReLU)\n",
    "- Reduce image with 2x2 pooling.\n",
    "- Second convolutional layer with 64 filters of 3x3 kernels. (ReLU)\n",
    "- Reduce image with 2x2 pooling.\n",
    "- Flatten output, making it a vector.\n",
    "- Use this vector to feed a neural network.\n",
    "- Have two ReLU layers with 128 neurons.\n",
    "- Output with a 10 neurons softmax layer.\n",
    "\n",
    "Loss: CrossEntropyLoss\n",
    "\n",
    "Optimizer: Adam"
   ]
  },
  {
   "cell_type": "markdown",
   "metadata": {},
   "source": [
    "3. Training the model"
   ]
  },
  {
   "cell_type": "code",
   "execution_count": 4,
   "metadata": {},
   "outputs": [
    {
     "name": "stderr",
     "output_type": "stream",
     "text": [
      "Epoch 1/5: 100%|███████████████████████████████████████████████████████████████████████| 235/235 [00:41<00:00,  5.71it/s, loss=0.0884]\n",
      "Epoch 2/5: 100%|███████████████████████████████████████████████████████████████████████| 235/235 [00:37<00:00,  6.33it/s, loss=0.0293]\n",
      "Epoch 3/5: 100%|███████████████████████████████████████████████████████████████████████| 235/235 [00:36<00:00,  6.43it/s, loss=0.0184]\n",
      "Epoch 4/5: 100%|██████████████████████████████████████████████████████████████████████| 235/235 [00:37<00:00,  6.30it/s, loss=0.00417]\n",
      "Epoch 5/5: 100%|██████████████████████████████████████████████████████████████████████| 235/235 [00:37<00:00,  6.34it/s, loss=0.00871]\n"
     ]
    }
   ],
   "source": [
    "num_epochs = 5\n",
    "loss_hist = []\n",
    "\n",
    "for epoch in range(num_epochs):\n",
    "    with tqdm(enumerate(train_loader), total=len(train_loader), desc=f\"Epoch {epoch+1}/{num_epochs}\") as pbar:\n",
    "        for batch_idx, (images, labels) in pbar:\n",
    "            optimizer.zero_grad()\n",
    "            outputs = model(images)\n",
    "            loss = criterion(outputs, labels)\n",
    "            loss.backward()\n",
    "            optimizer.step()\n",
    "            \n",
    "            pbar.set_postfix(loss=loss.item())\n",
    "            \n",
    "            loss_hist.append(loss.item())"
   ]
  },
  {
   "cell_type": "code",
   "execution_count": 5,
   "metadata": {},
   "outputs": [
    {
     "data": {
      "image/png": "[encoded data removed]",
      "text/plain": [
       "<Figure size 900x300 with 1 Axes>"
      ]
     },
     "metadata": {},
     "output_type": "display_data"
    }
   ],
   "source": [
    "fig, ax = plt.subplots(figsize=(9, 3))\n",
    "\n",
    "ax.plot(range(len(loss_hist)), loss_hist, label=\"Loss\")\n",
    "ax.set_xlabel(\"Iterations\", fontsize=12)\n",
    "ax.set_ylabel(\"Loss\", fontsize=12)\n",
    "ax.set_title(\"Model Loss\", fontsize=14)\n",
    "fig.tight_layout()\n",
    "\n",
    "plt.show()"
   ]
  },
  {
   "cell_type": "markdown",
   "metadata": {},
   "source": [
    "4. Test model"
   ]
  },
  {
   "cell_type": "code",
   "execution_count": 6,
   "metadata": {},
   "outputs": [
    {
     "name": "stdout",
     "output_type": "stream",
     "text": [
      "Test Accuracy: 98.81%\n"
     ]
    }
   ],
   "source": [
    "correct = 0\n",
    "total = 0\n",
    "\n",
    "with torch.no_grad(): # Environment without gradient calculation\n",
    "    for images, labels in test_loader:\n",
    "        outputs = model(images)\n",
    "        _, predicted = torch.max(outputs, 1)\n",
    "        total += labels.size(0)\n",
    "        correct += (predicted == labels).sum().item()\n",
    "\n",
    "print(f\"Test Accuracy: {100 * correct / total:.2f}%\")"
   ]
  },
  {
   "cell_type": "code",
   "execution_count": null,
   "metadata": {},
   "outputs": [],
   "source": []
  }
 ],
 "metadata": {
  "kernelspec": {
   "display_name": "Python 3 (ipykernel)",
   "language": "python",
   "name": "python3"
  },
  "language_info": {
   "codemirror_mode": {
    "name": "ipython",
    "version": 3
   },
   "file_extension": ".py",
   "mimetype": "text/x-python",
   "name": "python",
   "nbconvert_exporter": "python",
   "pygments_lexer": "ipython3",
   "version": "3.12.3"
  }
 },
 "nbformat": 4,
 "nbformat_minor": 4
}
